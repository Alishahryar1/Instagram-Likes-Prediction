{
 "cells": [
  {
   "cell_type": "code",
   "execution_count": 38,
   "metadata": {},
   "outputs": [],
   "source": [
    "import pandas as pd\n",
    "\n",
    "import numpy as np\n",
    "\n",
    "from PIL import Image\n",
    "\n",
    "import concurrent.futures as cf\n",
    "\n",
    "from tqdm.notebook import tqdm\n",
    "\n",
    "from sklearn.preprocessing import StandardScaler\n",
    "from sklearn.decomposition import PCA\n",
    "from sklearn.model_selection import train_test_split\n",
    "from sklearn.ensemble import RandomForestClassifier, RandomForestRegressor\n",
    "from sklearn.ensemble import ExtraTreesClassifier, ExtraTreesRegressor\n",
    "from sklearn.linear_model import LinearRegression\n",
    "from sklearn.neighbors import KNeighborsClassifier, KNeighborsRegressor\n",
    "from sklearn.neural_network import MLPClassifier, MLPRegressor\n",
    "from sklearn.metrics import accuracy_score, precision_score, recall_score, f1_score"
   ]
  },
  {
   "cell_type": "markdown",
   "metadata": {},
   "source": [
    "### Read metadata"
   ]
  },
  {
   "cell_type": "code",
   "execution_count": 39,
   "metadata": {},
   "outputs": [
    {
     "data": {
      "text/html": [
       "<div>\n",
       "<style scoped>\n",
       "    .dataframe tbody tr th:only-of-type {\n",
       "        vertical-align: middle;\n",
       "    }\n",
       "\n",
       "    .dataframe tbody tr th {\n",
       "        vertical-align: top;\n",
       "    }\n",
       "\n",
       "    .dataframe thead th {\n",
       "        text-align: right;\n",
       "    }\n",
       "</style>\n",
       "<table border=\"1\" class=\"dataframe\">\n",
       "  <thead>\n",
       "    <tr style=\"text-align: right;\">\n",
       "      <th></th>\n",
       "      <th>likes</th>\n",
       "      <th>no_of_comments</th>\n",
       "      <th>t</th>\n",
       "      <th>follower_count_at_t</th>\n",
       "      <th>image_path</th>\n",
       "      <th>class</th>\n",
       "    </tr>\n",
       "  </thead>\n",
       "  <tbody>\n",
       "    <tr>\n",
       "      <th>0</th>\n",
       "      <td>154552</td>\n",
       "      <td>0</td>\n",
       "      <td>1594174009</td>\n",
       "      <td>40934474</td>\n",
       "      <td>insta_data/0.jpg</td>\n",
       "      <td>2</td>\n",
       "    </tr>\n",
       "    <tr>\n",
       "      <th>1</th>\n",
       "      <td>97386</td>\n",
       "      <td>0</td>\n",
       "      <td>1593571666</td>\n",
       "      <td>40934474</td>\n",
       "      <td>insta_data/2.jpg</td>\n",
       "      <td>1</td>\n",
       "    </tr>\n",
       "    <tr>\n",
       "      <th>2</th>\n",
       "      <td>145632</td>\n",
       "      <td>0</td>\n",
       "      <td>1593136341</td>\n",
       "      <td>40934474</td>\n",
       "      <td>insta_data/4.jpg</td>\n",
       "      <td>2</td>\n",
       "    </tr>\n",
       "    <tr>\n",
       "      <th>3</th>\n",
       "      <td>76461</td>\n",
       "      <td>0</td>\n",
       "      <td>1592981047</td>\n",
       "      <td>40934474</td>\n",
       "      <td>insta_data/6.jpg</td>\n",
       "      <td>1</td>\n",
       "    </tr>\n",
       "    <tr>\n",
       "      <th>4</th>\n",
       "      <td>174620</td>\n",
       "      <td>0</td>\n",
       "      <td>1592703461</td>\n",
       "      <td>40934474</td>\n",
       "      <td>insta_data/8.jpg</td>\n",
       "      <td>2</td>\n",
       "    </tr>\n",
       "    <tr>\n",
       "      <th>...</th>\n",
       "      <td>...</td>\n",
       "      <td>...</td>\n",
       "      <td>...</td>\n",
       "      <td>...</td>\n",
       "      <td>...</td>\n",
       "      <td>...</td>\n",
       "    </tr>\n",
       "    <tr>\n",
       "      <th>3780</th>\n",
       "      <td>341895</td>\n",
       "      <td>6029</td>\n",
       "      <td>1555164674</td>\n",
       "      <td>4229627</td>\n",
       "      <td>insta_data/9435.jpg</td>\n",
       "      <td>2</td>\n",
       "    </tr>\n",
       "    <tr>\n",
       "      <th>3781</th>\n",
       "      <td>217095</td>\n",
       "      <td>2591</td>\n",
       "      <td>1554706282</td>\n",
       "      <td>4229627</td>\n",
       "      <td>insta_data/9436.jpg</td>\n",
       "      <td>2</td>\n",
       "    </tr>\n",
       "    <tr>\n",
       "      <th>3782</th>\n",
       "      <td>17902</td>\n",
       "      <td>253</td>\n",
       "      <td>1553945996</td>\n",
       "      <td>4229627</td>\n",
       "      <td>insta_data/9437.jpg</td>\n",
       "      <td>1</td>\n",
       "    </tr>\n",
       "    <tr>\n",
       "      <th>3783</th>\n",
       "      <td>141694</td>\n",
       "      <td>1175</td>\n",
       "      <td>1552645088</td>\n",
       "      <td>4229627</td>\n",
       "      <td>insta_data/9442.jpg</td>\n",
       "      <td>2</td>\n",
       "    </tr>\n",
       "    <tr>\n",
       "      <th>3784</th>\n",
       "      <td>95348</td>\n",
       "      <td>675</td>\n",
       "      <td>1551937608</td>\n",
       "      <td>4229627</td>\n",
       "      <td>insta_data/9444.jpg</td>\n",
       "      <td>1</td>\n",
       "    </tr>\n",
       "  </tbody>\n",
       "</table>\n",
       "<p>3785 rows × 6 columns</p>\n",
       "</div>"
      ],
      "text/plain": [
       "       likes  no_of_comments           t  follower_count_at_t  \\\n",
       "0     154552               0  1594174009             40934474   \n",
       "1      97386               0  1593571666             40934474   \n",
       "2     145632               0  1593136341             40934474   \n",
       "3      76461               0  1592981047             40934474   \n",
       "4     174620               0  1592703461             40934474   \n",
       "...      ...             ...         ...                  ...   \n",
       "3780  341895            6029  1555164674              4229627   \n",
       "3781  217095            2591  1554706282              4229627   \n",
       "3782   17902             253  1553945996              4229627   \n",
       "3783  141694            1175  1552645088              4229627   \n",
       "3784   95348             675  1551937608              4229627   \n",
       "\n",
       "               image_path  class  \n",
       "0        insta_data/0.jpg      2  \n",
       "1        insta_data/2.jpg      1  \n",
       "2        insta_data/4.jpg      2  \n",
       "3        insta_data/6.jpg      1  \n",
       "4        insta_data/8.jpg      2  \n",
       "...                   ...    ...  \n",
       "3780  insta_data/9435.jpg      2  \n",
       "3781  insta_data/9436.jpg      2  \n",
       "3782  insta_data/9437.jpg      1  \n",
       "3783  insta_data/9442.jpg      2  \n",
       "3784  insta_data/9444.jpg      1  \n",
       "\n",
       "[3785 rows x 6 columns]"
      ]
     },
     "execution_count": 39,
     "metadata": {},
     "output_type": "execute_result"
    }
   ],
   "source": [
    "instagram_df = pd.read_csv('instagram_data.csv')\n",
    "instagram_df['image_path'] = instagram_df['image_path'].str.replace('../Data/', '')\n",
    "instagram_df[\"class\"] = instagram_df[\"likes\"].apply(lambda x: min(len(str(x)), 6)) - 4\n",
    "instagram_df"
   ]
  },
  {
   "cell_type": "code",
   "execution_count": 40,
   "metadata": {},
   "outputs": [],
   "source": [
    "# likes_upper_bound = instagram_df['likes'].quantile(0.9)\n",
    "# comments_upper_bound = instagram_df['no_of_comments'].quantile(0.9)\n",
    "# t_low = instagram_df['likes'].quantile(0.1)\n",
    "# instagram_df = instagram_df[(instagram_df['likes'] < likes_upper_bound) & (instagram_df['no_of_comments'] < comments_upper_bound) & (instagram_df['t'] > t_low)]\n",
    "# print(instagram_df['class'].value_counts())"
   ]
  },
  {
   "cell_type": "markdown",
   "metadata": {},
   "source": [
    "### Read images (multi-threaded)"
   ]
  },
  {
   "cell_type": "code",
   "execution_count": 41,
   "metadata": {},
   "outputs": [
    {
     "data": {
      "application/vnd.jupyter.widget-view+json": {
       "model_id": "80eeb9e3d37d4dc5bf107f07540062e1",
       "version_major": 2,
       "version_minor": 0
      },
      "text/plain": [
       "Reading Images:   0%|          | 0/3785 [00:00<?, ?it/s]"
      ]
     },
     "metadata": {},
     "output_type": "display_data"
    }
   ],
   "source": [
    "def open_image(image_path):\n",
    "    img = Image.open(image_path)\n",
    "    img = img.resize((224, 224))\n",
    "    x = np.array(img)\n",
    "    shape = x.shape\n",
    "    x = np.expand_dims(x, axis=0)\n",
    "    return image_path, x, shape\n",
    "\n",
    "image_path_to_array = {}\n",
    "shapes = []\n",
    "with cf.ThreadPoolExecutor() as executor:\n",
    "    futures = [executor.submit(open_image, image_path) for image_path in instagram_df['image_path']]\n",
    "    for future in tqdm(cf.as_completed(futures), total=len(futures), desc=\"Reading Images\"):\n",
    "        image_path, img_np, shape = future.result()\n",
    "        shapes.append(shape)\n",
    "        image_path_to_array[image_path] = img_np"
   ]
  },
  {
   "cell_type": "markdown",
   "metadata": {},
   "source": [
    "### Make Numpy Arrays of Dataset"
   ]
  },
  {
   "cell_type": "code",
   "execution_count": 42,
   "metadata": {},
   "outputs": [],
   "source": [
    "def get_X_Y(instagram_df, image_path_to_array, pca = None):\n",
    "    X = []\n",
    "    Y = []\n",
    "    Y_class = []\n",
    "    for _, row in instagram_df.iterrows():\n",
    "        new_row = [row['no_of_comments'], row['t'], row['follower_count_at_t']]\n",
    "        image_path = row['image_path']\n",
    "        if pca is not None:\n",
    "            new_row.extend(pca.transform(image_path_to_array[image_path].mean(axis = 2).flatten().reshape(1, -1))[0])\n",
    "        else:\n",
    "            new_row.extend(image_path_to_array[image_path].mean(axis = 2).flatten())\n",
    "        X.append(new_row)\n",
    "        Y.append([row['likes']])\n",
    "        Y_class.append([row['class']])\n",
    "    return np.array(X), np.array(Y), np.array(Y_class)\n",
    "\n",
    "pca = PCA(n_components=5)\n",
    "pca.fit([img.mean(axis = 2).flatten() for img in image_path_to_array.values()])\n",
    "\n",
    "X, Y, Y_class = get_X_Y(instagram_df, image_path_to_array, pca)\n",
    "indexes = np.array(range(len(X)))\n",
    "standard_scaler = StandardScaler()\n",
    "standard_scaler.fit(X)\n",
    "X = standard_scaler.transform(X)\n",
    "\n",
    "X_train, X_test, train_indexes, test_indexes = train_test_split(X, indexes, test_size=0.2, random_state=42)\n",
    "Y_train = Y[train_indexes]\n",
    "Y_test = Y[test_indexes]\n",
    "Y_class_train = Y_class[train_indexes]\n",
    "Y_class_test = Y_class[test_indexes]"
   ]
  },
  {
   "cell_type": "markdown",
   "metadata": {},
   "source": [
    "## Regression"
   ]
  },
  {
   "cell_type": "code",
   "execution_count": 43,
   "metadata": {},
   "outputs": [
    {
     "name": "stdout",
     "output_type": "stream",
     "text": [
      "Linear Regression Score: 0.03235664507602065\n"
     ]
    }
   ],
   "source": [
    "LR = LinearRegression()\n",
    "LR.fit(X_train, Y_train)\n",
    "print(f\"Linear Regression Score: {LR.score(X_test, Y_test)}\")"
   ]
  },
  {
   "cell_type": "code",
   "execution_count": 44,
   "metadata": {},
   "outputs": [
    {
     "name": "stdout",
     "output_type": "stream",
     "text": [
      "KNN Score: 0.02914342327140329\n"
     ]
    }
   ],
   "source": [
    "KNN = KNeighborsRegressor(n_neighbors=5)\n",
    "KNN.fit(X_train, Y_train)\n",
    "print(f\"KNN Score: {KNN.score(X_test, Y_test)}\")"
   ]
  },
  {
   "cell_type": "code",
   "execution_count": 45,
   "metadata": {},
   "outputs": [
    {
     "name": "stdout",
     "output_type": "stream",
     "text": [
      "MLP Score: 0.010700241014972356\n"
     ]
    }
   ],
   "source": [
    "MLP = MLPRegressor(hidden_layer_sizes=(100, 100), max_iter=1000, random_state=42, validation_fraction=0.1, early_stopping=True)\n",
    "MLP.fit(X_train, Y_train.flatten())\n",
    "print(f\"MLP Score: {MLP.score(X_test, Y_test)}\")"
   ]
  },
  {
   "cell_type": "code",
   "execution_count": 46,
   "metadata": {},
   "outputs": [
    {
     "name": "stdout",
     "output_type": "stream",
     "text": [
      "Random Forest Score: 0.7758338892880675\n"
     ]
    }
   ],
   "source": [
    "RF = RandomForestRegressor(n_estimators=100, random_state=42)\n",
    "RF.fit(X_train, Y_train.flatten())\n",
    "print(f\"Random Forest Score: {RF.score(X_test, Y_test)}\")"
   ]
  },
  {
   "cell_type": "code",
   "execution_count": 47,
   "metadata": {},
   "outputs": [
    {
     "name": "stdout",
     "output_type": "stream",
     "text": [
      "Extra Trees Score: 0.8247956815981461\n"
     ]
    }
   ],
   "source": [
    "ET = ExtraTreesRegressor(n_estimators=100, random_state=42)\n",
    "ET.fit(X_train, Y_train.flatten())\n",
    "print(f\"Extra Trees Score: {ET.score(X_test, Y_test)}\")"
   ]
  },
  {
   "cell_type": "markdown",
   "metadata": {},
   "source": [
    "## Classification"
   ]
  },
  {
   "cell_type": "code",
   "execution_count": 48,
   "metadata": {},
   "outputs": [
    {
     "name": "stdout",
     "output_type": "stream",
     "text": [
      "MLP Accuracy: 0.7424042272126816\n",
      "MLP Precision: 0.7416303711775856\n",
      "MLP Recall: 0.7424042272126816\n",
      "MLP F1: 0.7392871570079449\n"
     ]
    }
   ],
   "source": [
    "MLPC = MLPClassifier(hidden_layer_sizes=(100, 100), max_iter=1000, random_state=42, validation_fraction=0.1)\n",
    "MLPC.fit(X_train, Y_class_train.flatten())\n",
    "y_pred = MLPC.predict(X_test)\n",
    "print(f\"MLP Accuracy: {accuracy_score(Y_class_test, y_pred)}\")\n",
    "print(f\"MLP Precision: {precision_score(Y_class_test, y_pred, average='weighted')}\")\n",
    "print(f\"MLP Recall: {recall_score(Y_class_test, y_pred, average='weighted')}\")\n",
    "print(f\"MLP F1: {f1_score(Y_class_test, y_pred, average='weighted')}\")"
   ]
  },
  {
   "cell_type": "code",
   "execution_count": 49,
   "metadata": {},
   "outputs": [
    {
     "name": "stdout",
     "output_type": "stream",
     "text": [
      "KNN Accuracy: 0.5891677675033025\n",
      "KNN Precision: 0.5875116002308227\n",
      "KNN Recall: 0.5891677675033025\n",
      "KNN F1: 0.5866646128371538\n"
     ]
    }
   ],
   "source": [
    "KNNC = KNeighborsClassifier(n_neighbors=5)\n",
    "KNNC.fit(X_train, Y_class_train.flatten())\n",
    "y_pred = KNNC.predict(X_test)\n",
    "print(f\"KNN Accuracy: {accuracy_score(Y_class_test, y_pred)}\")\n",
    "print(f\"KNN Precision: {precision_score(Y_class_test, y_pred, average='weighted')}\")\n",
    "print(f\"KNN Recall: {recall_score(Y_class_test, y_pred, average='weighted')}\")\n",
    "print(f\"KNN F1: {f1_score(Y_class_test, y_pred, average='weighted')}\")"
   ]
  },
  {
   "cell_type": "code",
   "execution_count": 50,
   "metadata": {},
   "outputs": [
    {
     "name": "stdout",
     "output_type": "stream",
     "text": [
      "Random Forest Accuracy: 0.8441215323645971\n",
      "Random Forest Precision: 0.8486768182629967\n",
      "Random Forest Recall: 0.8441215323645971\n",
      "Random Forest F1: 0.8400276865499082\n"
     ]
    }
   ],
   "source": [
    "RFC = RandomForestClassifier(n_estimators=100, random_state=42)\n",
    "RFC.fit(X_train, Y_class_train.flatten())\n",
    "y_pred = RFC.predict(X_test)\n",
    "print(f\"Random Forest Accuracy: {accuracy_score(Y_class_test, y_pred)}\")\n",
    "print(f\"Random Forest Precision: {precision_score(Y_class_test, y_pred, average='weighted')}\")\n",
    "print(f\"Random Forest Recall: {recall_score(Y_class_test, y_pred, average='weighted')}\")\n",
    "print(f\"Random Forest F1: {f1_score(Y_class_test, y_pred, average='weighted')}\")"
   ]
  },
  {
   "cell_type": "code",
   "execution_count": 51,
   "metadata": {},
   "outputs": [
    {
     "name": "stdout",
     "output_type": "stream",
     "text": [
      "Extra Trees Accuracy: 0.8282694848084544\n",
      "Extra Trees Precision: 0.8311476721120191\n",
      "Extra Trees Recall: 0.8282694848084544\n",
      "Extra Trees F1: 0.8230973873570815\n"
     ]
    }
   ],
   "source": [
    "ETC = ExtraTreesClassifier(n_estimators=100, random_state=42)\n",
    "ETC.fit(X_train, Y_class_train.flatten())\n",
    "y_pred = ETC.predict(X_test)\n",
    "print(f\"Extra Trees Accuracy: {accuracy_score(Y_class_test, y_pred)}\")\n",
    "print(f\"Extra Trees Precision: {precision_score(Y_class_test, y_pred, average='weighted')}\")\n",
    "print(f\"Extra Trees Recall: {recall_score(Y_class_test, y_pred, average='weighted')}\")\n",
    "print(f\"Extra Trees F1: {f1_score(Y_class_test, y_pred, average='weighted')}\")"
   ]
  }
 ],
 "metadata": {
  "kernelspec": {
   "display_name": "base",
   "language": "python",
   "name": "python3"
  },
  "language_info": {
   "codemirror_mode": {
    "name": "ipython",
    "version": 3
   },
   "file_extension": ".py",
   "mimetype": "text/x-python",
   "name": "python",
   "nbconvert_exporter": "python",
   "pygments_lexer": "ipython3",
   "version": "3.11.7"
  }
 },
 "nbformat": 4,
 "nbformat_minor": 2
}
