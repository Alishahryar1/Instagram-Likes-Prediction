{
 "cells": [
  {
   "cell_type": "code",
   "execution_count": 2,
   "metadata": {},
   "outputs": [],
   "source": [
    "import pandas as pd\n",
    "\n",
    "import numpy as np\n",
    "\n",
    "import concurrent.futures as cf\n",
    "\n",
    "from tqdm.notebook import tqdm\n",
    "\n",
    "from PIL import Image\n",
    "\n",
    "import torch\n",
    "\n",
    "from sklearn.preprocessing import StandardScaler\n",
    "\n",
    "from transformers import CLIPProcessor, CLIPModel\n",
    "\n",
    "from torch.utils.data import DataLoader, Dataset\n",
    "\n",
    "from torch.optim import Adam\n",
    "from torch import nn"
   ]
  },
  {
   "cell_type": "markdown",
   "metadata": {},
   "source": [
    "## Initialize CLIP model"
   ]
  },
  {
   "cell_type": "code",
   "execution_count": 3,
   "metadata": {},
   "outputs": [
    {
     "name": "stdout",
     "output_type": "stream",
     "text": [
      "cuda\n"
     ]
    },
    {
     "name": "stderr",
     "output_type": "stream",
     "text": [
      "c:\\Users\\Administrator\\anaconda3\\Lib\\site-packages\\transformers\\tokenization_utils_base.py:1617: FutureWarning: `clean_up_tokenization_spaces` was not set. It will be set to `True` by default. This behavior will be deprecated in transformers v4.45, and will be then set to `False` by default. For more details check this issue: https://github.com/huggingface/transformers/issues/31884\n",
      "  warnings.warn(\n"
     ]
    }
   ],
   "source": [
    "device = torch.device(\"cuda\" if torch.cuda.is_available() else \"cpu\")\n",
    "print(device)\n",
    "net = CLIPModel.from_pretrained(\"openai/clip-vit-base-patch32\").to(device)\n",
    "processor = CLIPProcessor.from_pretrained(\"openai/clip-vit-base-patch32\")"
   ]
  },
  {
   "cell_type": "markdown",
   "metadata": {},
   "source": [
    "## Read Metadata"
   ]
  },
  {
   "cell_type": "code",
   "execution_count": 4,
   "metadata": {},
   "outputs": [
    {
     "name": "stdout",
     "output_type": "stream",
     "text": [
      "class\n",
      "2    2137\n",
      "1    1521\n",
      "0     127\n",
      "Name: count, dtype: int64\n"
     ]
    }
   ],
   "source": [
    "instagram_df = pd.read_csv('instagram_data.csv')\n",
    "instagram_df['image_path'] = instagram_df['image_path'].str.replace('../Data/', '')\n",
    "instagram_df[\"class\"] = instagram_df[\"likes\"].apply(lambda x: min(len(str(x)), 6) - 4).reset_index(drop=True)\n",
    "print(instagram_df['class'].value_counts())"
   ]
  },
  {
   "cell_type": "code",
   "execution_count": 5,
   "metadata": {},
   "outputs": [],
   "source": [
    "likes_upper_bound = instagram_df['likes'].quantile(0.9)\n",
    "comments_upper_bound = instagram_df['no_of_comments'].quantile(0.9)\n",
    "t_lower_bound = instagram_df['t'].quantile(0.1)\n",
    "instagram_df = instagram_df[(instagram_df['likes'] < likes_upper_bound) & (instagram_df['no_of_comments'] < comments_upper_bound) & (instagram_df['t'] > t_lower_bound)].reset_index(drop=True)"
   ]
  },
  {
   "cell_type": "markdown",
   "metadata": {},
   "source": [
    "## Generate Label Embedding"
   ]
  },
  {
   "cell_type": "code",
   "execution_count": 6,
   "metadata": {},
   "outputs": [
    {
     "name": "stderr",
     "output_type": "stream",
     "text": [
      "c:\\Users\\Administrator\\anaconda3\\Lib\\site-packages\\transformers\\models\\clip\\modeling_clip.py:491: UserWarning: 1Torch was not compiled with flash attention. (Triggered internally at C:\\actions-runner\\_work\\pytorch\\pytorch\\builder\\windows\\pytorch\\aten\\src\\ATen\\native\\transformers\\cuda\\sdp_utils.cpp:555.)\n",
      "  attn_output = torch.nn.functional.scaled_dot_product_attention(\n"
     ]
    }
   ],
   "source": [
    "clip_labels = [\n",
    "    \"a photo that received low number of likes on instagram\", \n",
    "    \"a photo that received medium number of likes on instagram\", \n",
    "    \"a photo that received high number of likes on instagram\"\n",
    "]\n",
    "label_tokens = processor(clip_labels, return_tensors=\"pt\", padding=True).to(device)\n",
    "label_emb = net.get_text_features(**label_tokens)\n",
    "label_emb = label_emb.detach().cpu().numpy()\n",
    "label_emb = StandardScaler().fit_transform(label_emb)"
   ]
  },
  {
   "cell_type": "markdown",
   "metadata": {},
   "source": [
    "## Dataset Class Implementation"
   ]
  },
  {
   "cell_type": "code",
   "execution_count": 7,
   "metadata": {},
   "outputs": [],
   "source": [
    "class instagram_dataset(Dataset):\n",
    "    \n",
    "    def __init__(self, df):\n",
    "        self.df = df\n",
    "\n",
    "    def __len__(self):\n",
    "        return len(self.df)\n",
    "\n",
    "    def __getitem__(self, idx):\n",
    "        row = self.df.iloc[idx]\n",
    "        text = f\"\"\"For this photo the number of comments is {row['no_of_comments']} and the photo uploader has {row['follower_count_at_t']} followers at time {row['t']} on instagram\"\"\"\n",
    "        image = processor(text = text, images=Image.open(row['image_path']), return_tensors=\"pt\", padding=True)['pixel_values']\n",
    "        return image[0], row['class']"
   ]
  },
  {
   "cell_type": "code",
   "execution_count": 8,
   "metadata": {},
   "outputs": [],
   "source": [
    "train_df = instagram_df.sample(frac=0.8, random_state=0)\n",
    "test_df = instagram_df.drop(train_df.index).reset_index(drop=True)\n",
    "train_df = train_df.reset_index(drop=True)\n",
    "train_dataset = instagram_dataset(train_df)\n",
    "test_dataset = instagram_dataset(test_df)\n",
    "train_loader = DataLoader(train_dataset, batch_size=32, shuffle=True)\n",
    "test_loader = DataLoader(test_dataset, batch_size=32, shuffle=False)"
   ]
  },
  {
   "cell_type": "markdown",
   "metadata": {},
   "source": [
    "## Zero-shot Classification"
   ]
  },
  {
   "cell_type": "code",
   "execution_count": 9,
   "metadata": {},
   "outputs": [
    {
     "data": {
      "application/vnd.jupyter.widget-view+json": {
       "model_id": "ae40bd22b3ef4551b5391cb9e0ff886e",
       "version_major": 2,
       "version_minor": 0
      },
      "text/plain": [
       "  0%|          | 0/19 [00:00<?, ?it/s]"
      ]
     },
     "metadata": {},
     "output_type": "display_data"
    }
   ],
   "source": [
    "def classification(df):\n",
    "    preds = []\n",
    "    batch_size = 32\n",
    "    for i in tqdm(range(0, len(df), batch_size)):\n",
    "        i_end = min(i + batch_size, len(df))\n",
    "        text = [f\"\"\"For this photo the number of comments is {df.loc[j, \"no_of_comments\"]} and the photo uploader has {df.loc[j, \"follower_count_at_t\"]} followers at time {df.loc[j, \"t\"]} on instagram\"\"\" for j in range(i, i_end)]\n",
    "        images = [Image.open(df.loc[j, \"image_path\"]) for j in range(i, i_end)]\n",
    "        image = processor(text = text, images=images, return_tensors=\"pt\", padding=True)['pixel_values'].to(device)\n",
    "        image_emb = net.get_image_features(image)\n",
    "        image_emb = image_emb.detach().cpu().numpy()\n",
    "        scores = np.dot(image_emb, label_emb.T)\n",
    "        pred = np.argmax(scores, axis=1)\n",
    "        preds.extend(pred)\n",
    "    return np.array(preds)\n",
    "\n",
    "preds = classification(test_df)"
   ]
  },
  {
   "cell_type": "code",
   "execution_count": 10,
   "metadata": {},
   "outputs": [
    {
     "data": {
      "text/plain": [
       "0.33671742808798644"
      ]
     },
     "execution_count": 10,
     "metadata": {},
     "output_type": "execute_result"
    }
   ],
   "source": [
    "true_preds = test_df['class'].values\n",
    "accuracy = (preds == true_preds).mean()\n",
    "accuracy"
   ]
  },
  {
   "cell_type": "markdown",
   "metadata": {},
   "source": [
    "## Finetuning"
   ]
  },
  {
   "cell_type": "code",
   "execution_count": null,
   "metadata": {},
   "outputs": [],
   "source": [
    "optimizer = Adam(net.parameters(), lr=5e-5, betas=(0.9, 0.98), eps=1e-6, weight_decay=0.2)\n",
    "loss_img = nn.CrossEntropyLoss()\n",
    "\n",
    "num_epochs = 100\n",
    "for epoch in range(1, num_epochs + 1):\n",
    "    net.train()\n",
    "    for images, labels in tqdm(train_loader, desc=f\"Epoch {epoch}/{num_epochs}\"):\n",
    "        optimizer.zero_grad()\n",
    "        images = images.to(device)\n",
    "        labels = labels.to(device)\n",
    "        image_emb = net.get_image_features(images)\n",
    "        scores = torch.matmul(image_emb, torch.tensor(label_emb.T).to(device))\n",
    "        loss = loss_img(scores, labels)\n",
    "        loss.backward()\n",
    "        optimizer.step()\n",
    "    \n",
    "    print(f\"Loss: {loss.item()}\")\n",
    "    if epoch % 1 == 0:\n",
    "        torch.save({\n",
    "            'epoch': epoch,\n",
    "            'model_state_dict': net.state_dict(),\n",
    "            'optimizer_state_dict': optimizer.state_dict(),\n",
    "            'loss': loss,\n",
    "            'clip_labels': clip_labels,\n",
    "            'label_emb': label_emb\n",
    "        }, f\"finetuned_clip/clip_{epoch + 1}.pt\")\n",
    "        accuracy = (classification(test_df) == test_df['class'].values).mean()\n",
    "        print(f\"Accuracy: {accuracy}\")"
   ]
  },
  {
   "cell_type": "markdown",
   "metadata": {},
   "source": [
    "## Prediction with Best CLIP Model"
   ]
  },
  {
   "cell_type": "code",
   "execution_count": 13,
   "metadata": {},
   "outputs": [
    {
     "name": "stderr",
     "output_type": "stream",
     "text": [
      "C:\\Users\\Administrator\\AppData\\Local\\Temp\\ipykernel_17840\\3825309714.py:2: FutureWarning: You are using `torch.load` with `weights_only=False` (the current default value), which uses the default pickle module implicitly. It is possible to construct malicious pickle data which will execute arbitrary code during unpickling (See https://github.com/pytorch/pytorch/blob/main/SECURITY.md#untrusted-models for more details). In a future release, the default value for `weights_only` will be flipped to `True`. This limits the functions that could be executed during unpickling. Arbitrary objects will no longer be allowed to be loaded via this mode unless they are explicitly allowlisted by the user via `torch.serialization.add_safe_globals`. We recommend you start setting `weights_only=True` for any use case where you don't have full control of the loaded file. Please open an issue on GitHub for any issues related to this experimental feature.\n",
      "  checkpoint = torch.load(\"finetuned_clip/clip_50.pt\")\n"
     ]
    },
    {
     "data": {
      "text/plain": [
       "<All keys matched successfully>"
      ]
     },
     "execution_count": 13,
     "metadata": {},
     "output_type": "execute_result"
    }
   ],
   "source": [
    "trained_Net = CLIPModel.from_pretrained(\"openai/clip-vit-base-patch32\").to(device)\n",
    "checkpoint = torch.load(\"finetuned_clip/clip_50.pt\")\n",
    "trained_Net.load_state_dict(checkpoint['model_state_dict'])"
   ]
  },
  {
   "cell_type": "code",
   "execution_count": 16,
   "metadata": {},
   "outputs": [
    {
     "data": {
      "application/vnd.jupyter.widget-view+json": {
       "model_id": "886ec137f6d5459aa30e1b508c328390",
       "version_major": 2,
       "version_minor": 0
      },
      "text/plain": [
       "  0%|          | 0/19 [00:00<?, ?it/s]"
      ]
     },
     "metadata": {},
     "output_type": "display_data"
    }
   ],
   "source": [
    "df = test_df\n",
    "preds = []\n",
    "batch_size = 32\n",
    "for i in tqdm(range(0, len(df), batch_size)):\n",
    "    i_end = min(i + batch_size, len(df))\n",
    "    text = [f\"\"\"For this photo the number of comments is {df.loc[j, \"no_of_comments\"]} and the photo uploader has {df.loc[j, \"follower_count_at_t\"]} followers at time {df.loc[j, \"t\"]} on instagram\"\"\" for j in range(i, i_end)]\n",
    "    images = [Image.open(df.loc[j, \"image_path\"]) for j in range(i, i_end)]\n",
    "    image = processor(text = text, images=images, return_tensors=\"pt\", padding=True)['pixel_values'].to(device)\n",
    "    image_emb = trained_Net.get_image_features(image)\n",
    "    image_emb = image_emb.detach().cpu().numpy()\n",
    "    scores = np.dot(image_emb, label_emb.T)\n",
    "    pred = np.argmax(scores, axis=1)\n",
    "    preds.extend(pred)"
   ]
  },
  {
   "cell_type": "code",
   "execution_count": 17,
   "metadata": {},
   "outputs": [
    {
     "data": {
      "text/plain": [
       "0.5245346869712352"
      ]
     },
     "execution_count": 17,
     "metadata": {},
     "output_type": "execute_result"
    }
   ],
   "source": [
    "true_preds = test_df['class'].values\n",
    "accuracy = (np.array(preds) == true_preds).mean()\n",
    "accuracy"
   ]
  },
  {
   "cell_type": "code",
   "execution_count": null,
   "metadata": {},
   "outputs": [],
   "source": []
  }
 ],
 "metadata": {
  "kernelspec": {
   "display_name": "base",
   "language": "python",
   "name": "python3"
  },
  "language_info": {
   "codemirror_mode": {
    "name": "ipython",
    "version": 3
   },
   "file_extension": ".py",
   "mimetype": "text/x-python",
   "name": "python",
   "nbconvert_exporter": "python",
   "pygments_lexer": "ipython3",
   "version": "3.11.7"
  }
 },
 "nbformat": 4,
 "nbformat_minor": 2
}
